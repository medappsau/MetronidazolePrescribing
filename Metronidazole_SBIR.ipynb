{
  "nbformat": 4,
  "nbformat_minor": 0,
  "metadata": {
    "colab": {
      "name": "Metronidazole SBIR",
      "provenance": [],
      "collapsed_sections": [],
      "authorship_tag": "ABX9TyOx30v34b9sjrtybw/0zXCy",
      "include_colab_link": true
    },
    "kernelspec": {
      "name": "python3",
      "display_name": "Python 3"
    }
  },
  "cells": [
    {
      "cell_type": "markdown",
      "metadata": {
        "id": "view-in-github",
        "colab_type": "text"
      },
      "source": [
        "<a href=\"https://colab.research.google.com/github/medappsau/MetronidazolePrescribing/blob/master/Metronidazole_SBIR.ipynb\" target=\"_parent\"><img src=\"https://colab.research.google.com/assets/colab-badge.svg\" alt=\"Open In Colab\"/></a>"
      ]
    },
    {
      "cell_type": "code",
      "metadata": {
        "id": "XPlWjF-Ivk8g",
        "colab_type": "code",
        "colab": {}
      },
      "source": [
        "import statsmodels.stats.api as sm \n",
        "import pandas as pd\n",
        "from google.colab import files\n",
        "import numpy as np\n",
        "from statsmodels.stats.weightstats import DescrStatsW as smstat"
      ],
      "execution_count": 0,
      "outputs": []
    },
    {
      "cell_type": "code",
      "metadata": {
        "id": "1Q5QE37VwIWW",
        "colab_type": "code",
        "colab": {}
      },
      "source": [
        "#upload the dataset\n",
        "\n",
        "df = pd.read_csv(\"/content/Metronidazole dataframe.csv\")"
      ],
      "execution_count": 0,
      "outputs": []
    },
    {
      "cell_type": "code",
      "metadata": {
        "id": "CzW4yIEHvx9S",
        "colab_type": "code",
        "colab": {
          "base_uri": "https://localhost:8080/",
          "height": 204
        },
        "outputId": "0520f1b5-b8ac-488b-d045-b4f407f68e9a"
      },
      "source": [
        "#examining the dataset\n",
        "df.head()"
      ],
      "execution_count": 9,
      "outputs": [
        {
          "output_type": "execute_result",
          "data": {
            "text/html": [
              "<div>\n",
              "<style scoped>\n",
              "    .dataframe tbody tr th:only-of-type {\n",
              "        vertical-align: middle;\n",
              "    }\n",
              "\n",
              "    .dataframe tbody tr th {\n",
              "        vertical-align: top;\n",
              "    }\n",
              "\n",
              "    .dataframe thead th {\n",
              "        text-align: right;\n",
              "    }\n",
              "</style>\n",
              "<table border=\"1\" class=\"dataframe\">\n",
              "  <thead>\n",
              "    <tr style=\"text-align: right;\">\n",
              "      <th></th>\n",
              "      <th>Date</th>\n",
              "      <th>Pre or Post Project</th>\n",
              "      <th>Product Form</th>\n",
              "      <th>Product Use</th>\n",
              "    </tr>\n",
              "  </thead>\n",
              "  <tbody>\n",
              "    <tr>\n",
              "      <th>0</th>\n",
              "      <td>2018-02-28</td>\n",
              "      <td>0</td>\n",
              "      <td>Iv infusion</td>\n",
              "      <td>3</td>\n",
              "    </tr>\n",
              "    <tr>\n",
              "      <th>1</th>\n",
              "      <td>2018-03-01</td>\n",
              "      <td>0</td>\n",
              "      <td>Iv infusion</td>\n",
              "      <td>2</td>\n",
              "    </tr>\n",
              "    <tr>\n",
              "      <th>2</th>\n",
              "      <td>2018-03-01</td>\n",
              "      <td>0</td>\n",
              "      <td>Tablets</td>\n",
              "      <td>1</td>\n",
              "    </tr>\n",
              "    <tr>\n",
              "      <th>3</th>\n",
              "      <td>2018-03-02</td>\n",
              "      <td>0</td>\n",
              "      <td>Iv infusion</td>\n",
              "      <td>3</td>\n",
              "    </tr>\n",
              "    <tr>\n",
              "      <th>4</th>\n",
              "      <td>2018-03-02</td>\n",
              "      <td>0</td>\n",
              "      <td>Tablets</td>\n",
              "      <td>1</td>\n",
              "    </tr>\n",
              "  </tbody>\n",
              "</table>\n",
              "</div>"
            ],
            "text/plain": [
              "         Date  Pre or Post Project Product Form  Product Use\n",
              "0  2018-02-28                    0  Iv infusion            3\n",
              "1  2018-03-01                    0  Iv infusion            2\n",
              "2  2018-03-01                    0      Tablets            1\n",
              "3  2018-03-02                    0  Iv infusion            3\n",
              "4  2018-03-02                    0      Tablets            1"
            ]
          },
          "metadata": {
            "tags": []
          },
          "execution_count": 9
        }
      ]
    },
    {
      "cell_type": "code",
      "metadata": {
        "id": "kcQfKKnhwtyB",
        "colab_type": "code",
        "colab": {
          "base_uri": "https://localhost:8080/",
          "height": 34
        },
        "outputId": "5355ca53-24a3-4094-cf2b-bf3daef9477a"
      },
      "source": [
        "#examining the dataset\n",
        "df.columns"
      ],
      "execution_count": 10,
      "outputs": [
        {
          "output_type": "execute_result",
          "data": {
            "text/plain": [
              "Index(['Date', 'Pre or Post Project', 'Product Form', 'Product Use'], dtype='object')"
            ]
          },
          "metadata": {
            "tags": []
          },
          "execution_count": 10
        }
      ]
    },
    {
      "cell_type": "code",
      "metadata": {
        "id": "GhcQQDwzxDYU",
        "colab_type": "code",
        "colab": {
          "base_uri": "https://localhost:8080/",
          "height": 419
        },
        "outputId": "bab437f8-8b27-4dea-df10-64c347e70d11"
      },
      "source": [
        "#create dataframe of 'oralpre' to just include oral pre project\n",
        "oralpre = df.loc[(df['Pre or Post Project'] == 0)]\n",
        "oralpre = oralpre.loc[(oralpre['Product Form']== 'Tablets')]\n",
        "\n",
        "#Add in missing dates with 0 product Tablet use\n",
        "oralpre['Date'] = pd.to_datetime(oralpre['Date'])\n",
        "oralpre.sort_values(by='Date')\n",
        "oralpre = (oralpre.set_index('Date')\n",
        "       .reindex(pd.date_range(oralpre['Date'].min(), oralpre['Date'].max()), fill_value=0)\n",
        "       .reset_index())\n",
        "\n",
        "#Sum product use for each day\n",
        "oralpre.groupby(['index'])['Product Use'].agg('sum')\n",
        "oralpre['Product Form'].replace(to_replace=0, value = 'Tablets', inplace= True)\n",
        "\n",
        "#save new dataframe as CSV\n",
        "oralpre.to_csv('oralpre.csv')\n",
        "\n",
        "#view new dataframe\n",
        "oralpre"
      ],
      "execution_count": 11,
      "outputs": [
        {
          "output_type": "execute_result",
          "data": {
            "text/html": [
              "<div>\n",
              "<style scoped>\n",
              "    .dataframe tbody tr th:only-of-type {\n",
              "        vertical-align: middle;\n",
              "    }\n",
              "\n",
              "    .dataframe tbody tr th {\n",
              "        vertical-align: top;\n",
              "    }\n",
              "\n",
              "    .dataframe thead th {\n",
              "        text-align: right;\n",
              "    }\n",
              "</style>\n",
              "<table border=\"1\" class=\"dataframe\">\n",
              "  <thead>\n",
              "    <tr style=\"text-align: right;\">\n",
              "      <th></th>\n",
              "      <th>index</th>\n",
              "      <th>Pre or Post Project</th>\n",
              "      <th>Product Form</th>\n",
              "      <th>Product Use</th>\n",
              "    </tr>\n",
              "  </thead>\n",
              "  <tbody>\n",
              "    <tr>\n",
              "      <th>0</th>\n",
              "      <td>2018-03-01</td>\n",
              "      <td>0</td>\n",
              "      <td>Tablets</td>\n",
              "      <td>1</td>\n",
              "    </tr>\n",
              "    <tr>\n",
              "      <th>1</th>\n",
              "      <td>2018-03-02</td>\n",
              "      <td>0</td>\n",
              "      <td>Tablets</td>\n",
              "      <td>1</td>\n",
              "    </tr>\n",
              "    <tr>\n",
              "      <th>2</th>\n",
              "      <td>2018-03-03</td>\n",
              "      <td>0</td>\n",
              "      <td>Tablets</td>\n",
              "      <td>0</td>\n",
              "    </tr>\n",
              "    <tr>\n",
              "      <th>3</th>\n",
              "      <td>2018-03-04</td>\n",
              "      <td>0</td>\n",
              "      <td>Tablets</td>\n",
              "      <td>2</td>\n",
              "    </tr>\n",
              "    <tr>\n",
              "      <th>4</th>\n",
              "      <td>2018-03-05</td>\n",
              "      <td>0</td>\n",
              "      <td>Tablets</td>\n",
              "      <td>1</td>\n",
              "    </tr>\n",
              "    <tr>\n",
              "      <th>...</th>\n",
              "      <td>...</td>\n",
              "      <td>...</td>\n",
              "      <td>...</td>\n",
              "      <td>...</td>\n",
              "    </tr>\n",
              "    <tr>\n",
              "      <th>249</th>\n",
              "      <td>2018-11-05</td>\n",
              "      <td>0</td>\n",
              "      <td>Tablets</td>\n",
              "      <td>0</td>\n",
              "    </tr>\n",
              "    <tr>\n",
              "      <th>250</th>\n",
              "      <td>2018-11-06</td>\n",
              "      <td>0</td>\n",
              "      <td>Tablets</td>\n",
              "      <td>0</td>\n",
              "    </tr>\n",
              "    <tr>\n",
              "      <th>251</th>\n",
              "      <td>2018-11-07</td>\n",
              "      <td>0</td>\n",
              "      <td>Tablets</td>\n",
              "      <td>2</td>\n",
              "    </tr>\n",
              "    <tr>\n",
              "      <th>252</th>\n",
              "      <td>2018-11-08</td>\n",
              "      <td>0</td>\n",
              "      <td>Tablets</td>\n",
              "      <td>0</td>\n",
              "    </tr>\n",
              "    <tr>\n",
              "      <th>253</th>\n",
              "      <td>2018-11-09</td>\n",
              "      <td>0</td>\n",
              "      <td>Tablets</td>\n",
              "      <td>2</td>\n",
              "    </tr>\n",
              "  </tbody>\n",
              "</table>\n",
              "<p>254 rows × 4 columns</p>\n",
              "</div>"
            ],
            "text/plain": [
              "         index  Pre or Post Project Product Form  Product Use\n",
              "0   2018-03-01                    0      Tablets            1\n",
              "1   2018-03-02                    0      Tablets            1\n",
              "2   2018-03-03                    0      Tablets            0\n",
              "3   2018-03-04                    0      Tablets            2\n",
              "4   2018-03-05                    0      Tablets            1\n",
              "..         ...                  ...          ...          ...\n",
              "249 2018-11-05                    0      Tablets            0\n",
              "250 2018-11-06                    0      Tablets            0\n",
              "251 2018-11-07                    0      Tablets            2\n",
              "252 2018-11-08                    0      Tablets            0\n",
              "253 2018-11-09                    0      Tablets            2\n",
              "\n",
              "[254 rows x 4 columns]"
            ]
          },
          "metadata": {
            "tags": []
          },
          "execution_count": 11
        }
      ]
    },
    {
      "cell_type": "code",
      "metadata": {
        "id": "UZhslxHZZbIl",
        "colab_type": "code",
        "colab": {
          "base_uri": "https://localhost:8080/",
          "height": 419
        },
        "outputId": "4a6f049d-bd5a-4179-8b09-3ed38f89185c"
      },
      "source": [
        "#create dataframe of 'oralpost' to just include oral post project\n",
        "oralpost = df.loc[(df['Pre or Post Project'] == 1)]\n",
        "oralpost = oralpost.loc[(oralpost['Product Form']== 'Tablets')]\n",
        "\n",
        "#Add in missing dates with 0 product Tablet use\n",
        "oralpost['Date'] = pd.to_datetime(oralpost['Date'])\n",
        "oralpost.sort_values(by='Date')\n",
        "oralpost = (oralpost.set_index('Date')\n",
        "       .reindex(pd.date_range(oralpost['Date'].min(), oralpost['Date'].max()), fill_value=0)\n",
        "       .reset_index())\n",
        "oralpost['Pre or Post Project'].replace(to_replace=0, value = 1, inplace= True)\n",
        "oralpost['Product Form'].replace(to_replace=0, value = 'Tablets', inplace= True)\n",
        "\n",
        "#Sum product use for each day\n",
        "oralpost.groupby(['index'])['Product Use'].agg('sum')\n",
        "\n",
        "#Save new dataframe as CSV\n",
        "oralpost.to_csv('oralpost.csv')\n",
        "\n",
        "#View new dataframe\n",
        "oralpost"
      ],
      "execution_count": 12,
      "outputs": [
        {
          "output_type": "execute_result",
          "data": {
            "text/html": [
              "<div>\n",
              "<style scoped>\n",
              "    .dataframe tbody tr th:only-of-type {\n",
              "        vertical-align: middle;\n",
              "    }\n",
              "\n",
              "    .dataframe tbody tr th {\n",
              "        vertical-align: top;\n",
              "    }\n",
              "\n",
              "    .dataframe thead th {\n",
              "        text-align: right;\n",
              "    }\n",
              "</style>\n",
              "<table border=\"1\" class=\"dataframe\">\n",
              "  <thead>\n",
              "    <tr style=\"text-align: right;\">\n",
              "      <th></th>\n",
              "      <th>index</th>\n",
              "      <th>Pre or Post Project</th>\n",
              "      <th>Product Form</th>\n",
              "      <th>Product Use</th>\n",
              "    </tr>\n",
              "  </thead>\n",
              "  <tbody>\n",
              "    <tr>\n",
              "      <th>0</th>\n",
              "      <td>2018-11-13</td>\n",
              "      <td>1</td>\n",
              "      <td>Tablets</td>\n",
              "      <td>1</td>\n",
              "    </tr>\n",
              "    <tr>\n",
              "      <th>1</th>\n",
              "      <td>2018-11-14</td>\n",
              "      <td>1</td>\n",
              "      <td>Tablets</td>\n",
              "      <td>0</td>\n",
              "    </tr>\n",
              "    <tr>\n",
              "      <th>2</th>\n",
              "      <td>2018-11-15</td>\n",
              "      <td>1</td>\n",
              "      <td>Tablets</td>\n",
              "      <td>0</td>\n",
              "    </tr>\n",
              "    <tr>\n",
              "      <th>3</th>\n",
              "      <td>2018-11-16</td>\n",
              "      <td>1</td>\n",
              "      <td>Tablets</td>\n",
              "      <td>0</td>\n",
              "    </tr>\n",
              "    <tr>\n",
              "      <th>4</th>\n",
              "      <td>2018-11-17</td>\n",
              "      <td>1</td>\n",
              "      <td>Tablets</td>\n",
              "      <td>0</td>\n",
              "    </tr>\n",
              "    <tr>\n",
              "      <th>...</th>\n",
              "      <td>...</td>\n",
              "      <td>...</td>\n",
              "      <td>...</td>\n",
              "      <td>...</td>\n",
              "    </tr>\n",
              "    <tr>\n",
              "      <th>150</th>\n",
              "      <td>2019-04-12</td>\n",
              "      <td>1</td>\n",
              "      <td>Tablets</td>\n",
              "      <td>0</td>\n",
              "    </tr>\n",
              "    <tr>\n",
              "      <th>151</th>\n",
              "      <td>2019-04-13</td>\n",
              "      <td>1</td>\n",
              "      <td>Tablets</td>\n",
              "      <td>0</td>\n",
              "    </tr>\n",
              "    <tr>\n",
              "      <th>152</th>\n",
              "      <td>2019-04-14</td>\n",
              "      <td>1</td>\n",
              "      <td>Tablets</td>\n",
              "      <td>0</td>\n",
              "    </tr>\n",
              "    <tr>\n",
              "      <th>153</th>\n",
              "      <td>2019-04-15</td>\n",
              "      <td>1</td>\n",
              "      <td>Tablets</td>\n",
              "      <td>3</td>\n",
              "    </tr>\n",
              "    <tr>\n",
              "      <th>154</th>\n",
              "      <td>2019-04-16</td>\n",
              "      <td>1</td>\n",
              "      <td>Tablets</td>\n",
              "      <td>1</td>\n",
              "    </tr>\n",
              "  </tbody>\n",
              "</table>\n",
              "<p>155 rows × 4 columns</p>\n",
              "</div>"
            ],
            "text/plain": [
              "         index  Pre or Post Project Product Form  Product Use\n",
              "0   2018-11-13                    1      Tablets            1\n",
              "1   2018-11-14                    1      Tablets            0\n",
              "2   2018-11-15                    1      Tablets            0\n",
              "3   2018-11-16                    1      Tablets            0\n",
              "4   2018-11-17                    1      Tablets            0\n",
              "..         ...                  ...          ...          ...\n",
              "150 2019-04-12                    1      Tablets            0\n",
              "151 2019-04-13                    1      Tablets            0\n",
              "152 2019-04-14                    1      Tablets            0\n",
              "153 2019-04-15                    1      Tablets            3\n",
              "154 2019-04-16                    1      Tablets            1\n",
              "\n",
              "[155 rows x 4 columns]"
            ]
          },
          "metadata": {
            "tags": []
          },
          "execution_count": 12
        }
      ]
    },
    {
      "cell_type": "code",
      "metadata": {
        "id": "dwcl5cWLZmGQ",
        "colab_type": "code",
        "colab": {
          "base_uri": "https://localhost:8080/",
          "height": 419
        },
        "outputId": "893b1cac-b52c-4f36-a269-6dce1ba76b0d"
      },
      "source": [
        "#create dataframe of 'ivpre' to just include iv pre project\n",
        "ivpre = df.loc[(df['Pre or Post Project'] == 0)]\n",
        "ivpre = ivpre.loc[(ivpre['Product Form']== 'Iv infusion')]\n",
        "\n",
        "#Add in missing dates with 0 product Infusion use\n",
        "ivpre['Date'] = pd.to_datetime(ivpre['Date'])\n",
        "ivpre.sort_values(by='Date')\n",
        "ivpre = (ivpre.set_index('Date')\n",
        "       .reindex(pd.date_range(ivpre['Date'].min(), ivpre['Date'].max()), fill_value=0)\n",
        "       .reset_index())\n",
        "ivpre['Product Form'].replace(to_replace=0, value = 'Iv infusion', inplace= True)\n",
        "\n",
        "#Sum product use for each day\n",
        "ivpre.groupby(['index'])['Product Use'].agg('sum')\n",
        "\n",
        "#Save new dataframe as CSV\n",
        "ivpre.to_csv('ivpre.csv')\n",
        "\n",
        "#View newe dataframe\n",
        "ivpre"
      ],
      "execution_count": 13,
      "outputs": [
        {
          "output_type": "execute_result",
          "data": {
            "text/html": [
              "<div>\n",
              "<style scoped>\n",
              "    .dataframe tbody tr th:only-of-type {\n",
              "        vertical-align: middle;\n",
              "    }\n",
              "\n",
              "    .dataframe tbody tr th {\n",
              "        vertical-align: top;\n",
              "    }\n",
              "\n",
              "    .dataframe thead th {\n",
              "        text-align: right;\n",
              "    }\n",
              "</style>\n",
              "<table border=\"1\" class=\"dataframe\">\n",
              "  <thead>\n",
              "    <tr style=\"text-align: right;\">\n",
              "      <th></th>\n",
              "      <th>index</th>\n",
              "      <th>Pre or Post Project</th>\n",
              "      <th>Product Form</th>\n",
              "      <th>Product Use</th>\n",
              "    </tr>\n",
              "  </thead>\n",
              "  <tbody>\n",
              "    <tr>\n",
              "      <th>0</th>\n",
              "      <td>2018-02-28</td>\n",
              "      <td>0</td>\n",
              "      <td>Iv infusion</td>\n",
              "      <td>3</td>\n",
              "    </tr>\n",
              "    <tr>\n",
              "      <th>1</th>\n",
              "      <td>2018-03-01</td>\n",
              "      <td>0</td>\n",
              "      <td>Iv infusion</td>\n",
              "      <td>2</td>\n",
              "    </tr>\n",
              "    <tr>\n",
              "      <th>2</th>\n",
              "      <td>2018-03-02</td>\n",
              "      <td>0</td>\n",
              "      <td>Iv infusion</td>\n",
              "      <td>3</td>\n",
              "    </tr>\n",
              "    <tr>\n",
              "      <th>3</th>\n",
              "      <td>2018-03-03</td>\n",
              "      <td>0</td>\n",
              "      <td>Iv infusion</td>\n",
              "      <td>5</td>\n",
              "    </tr>\n",
              "    <tr>\n",
              "      <th>4</th>\n",
              "      <td>2018-03-04</td>\n",
              "      <td>0</td>\n",
              "      <td>Iv infusion</td>\n",
              "      <td>2</td>\n",
              "    </tr>\n",
              "    <tr>\n",
              "      <th>...</th>\n",
              "      <td>...</td>\n",
              "      <td>...</td>\n",
              "      <td>...</td>\n",
              "      <td>...</td>\n",
              "    </tr>\n",
              "    <tr>\n",
              "      <th>251</th>\n",
              "      <td>2018-11-06</td>\n",
              "      <td>0</td>\n",
              "      <td>Iv infusion</td>\n",
              "      <td>2</td>\n",
              "    </tr>\n",
              "    <tr>\n",
              "      <th>252</th>\n",
              "      <td>2018-11-07</td>\n",
              "      <td>0</td>\n",
              "      <td>Iv infusion</td>\n",
              "      <td>12</td>\n",
              "    </tr>\n",
              "    <tr>\n",
              "      <th>253</th>\n",
              "      <td>2018-11-08</td>\n",
              "      <td>0</td>\n",
              "      <td>Iv infusion</td>\n",
              "      <td>4</td>\n",
              "    </tr>\n",
              "    <tr>\n",
              "      <th>254</th>\n",
              "      <td>2018-11-09</td>\n",
              "      <td>0</td>\n",
              "      <td>Iv infusion</td>\n",
              "      <td>8</td>\n",
              "    </tr>\n",
              "    <tr>\n",
              "      <th>255</th>\n",
              "      <td>2018-11-10</td>\n",
              "      <td>0</td>\n",
              "      <td>Iv infusion</td>\n",
              "      <td>6</td>\n",
              "    </tr>\n",
              "  </tbody>\n",
              "</table>\n",
              "<p>256 rows × 4 columns</p>\n",
              "</div>"
            ],
            "text/plain": [
              "         index  Pre or Post Project Product Form  Product Use\n",
              "0   2018-02-28                    0  Iv infusion            3\n",
              "1   2018-03-01                    0  Iv infusion            2\n",
              "2   2018-03-02                    0  Iv infusion            3\n",
              "3   2018-03-03                    0  Iv infusion            5\n",
              "4   2018-03-04                    0  Iv infusion            2\n",
              "..         ...                  ...          ...          ...\n",
              "251 2018-11-06                    0  Iv infusion            2\n",
              "252 2018-11-07                    0  Iv infusion           12\n",
              "253 2018-11-08                    0  Iv infusion            4\n",
              "254 2018-11-09                    0  Iv infusion            8\n",
              "255 2018-11-10                    0  Iv infusion            6\n",
              "\n",
              "[256 rows x 4 columns]"
            ]
          },
          "metadata": {
            "tags": []
          },
          "execution_count": 13
        }
      ]
    },
    {
      "cell_type": "code",
      "metadata": {
        "id": "8RXwgqm-aL5A",
        "colab_type": "code",
        "colab": {
          "base_uri": "https://localhost:8080/",
          "height": 419
        },
        "outputId": "b014bd31-27d9-4e8d-f712-062deef70783"
      },
      "source": [
        "#create dataframe of 'ivpost' to just include iv post project\n",
        "ivpost = df.loc[(df['Pre or Post Project'] == 1)]\n",
        "ivpost = ivpost.loc[(ivpost['Product Form']== 'Iv infusion')]\n",
        "\n",
        "#Add in missing dates with 0 product Infusion use\n",
        "ivpost['Date'] = pd.to_datetime(ivpost['Date'])\n",
        "ivpost.sort_values(by='Date')\n",
        "ivpost = (ivpost.set_index('Date')\n",
        "       .reindex(pd.date_range(ivpost['Date'].min(), ivpost['Date'].max()), fill_value=0)\n",
        "       .reset_index())\n",
        "ivpost['Product Form'].replace(to_replace=0, value = 'Iv infusion', inplace= True)\n",
        "ivpost['Pre or Post Project'].replace(to_replace=0, value = 1, inplace= True)\n",
        "\n",
        "#Sum product use for each day\n",
        "ivpost.groupby(['index'])['Product Use'].agg('sum')\n",
        "\n",
        "#Save new dataframe as CSV\n",
        "ivpost.to_csv('ivpost.csv')\n",
        "\n",
        "#View new dataframe\n",
        "ivpost\n"
      ],
      "execution_count": 14,
      "outputs": [
        {
          "output_type": "execute_result",
          "data": {
            "text/html": [
              "<div>\n",
              "<style scoped>\n",
              "    .dataframe tbody tr th:only-of-type {\n",
              "        vertical-align: middle;\n",
              "    }\n",
              "\n",
              "    .dataframe tbody tr th {\n",
              "        vertical-align: top;\n",
              "    }\n",
              "\n",
              "    .dataframe thead th {\n",
              "        text-align: right;\n",
              "    }\n",
              "</style>\n",
              "<table border=\"1\" class=\"dataframe\">\n",
              "  <thead>\n",
              "    <tr style=\"text-align: right;\">\n",
              "      <th></th>\n",
              "      <th>index</th>\n",
              "      <th>Pre or Post Project</th>\n",
              "      <th>Product Form</th>\n",
              "      <th>Product Use</th>\n",
              "    </tr>\n",
              "  </thead>\n",
              "  <tbody>\n",
              "    <tr>\n",
              "      <th>0</th>\n",
              "      <td>2018-11-11</td>\n",
              "      <td>1</td>\n",
              "      <td>Iv infusion</td>\n",
              "      <td>2</td>\n",
              "    </tr>\n",
              "    <tr>\n",
              "      <th>1</th>\n",
              "      <td>2018-11-12</td>\n",
              "      <td>1</td>\n",
              "      <td>Iv infusion</td>\n",
              "      <td>4</td>\n",
              "    </tr>\n",
              "    <tr>\n",
              "      <th>2</th>\n",
              "      <td>2018-11-13</td>\n",
              "      <td>1</td>\n",
              "      <td>Iv infusion</td>\n",
              "      <td>5</td>\n",
              "    </tr>\n",
              "    <tr>\n",
              "      <th>3</th>\n",
              "      <td>2018-11-14</td>\n",
              "      <td>1</td>\n",
              "      <td>Iv infusion</td>\n",
              "      <td>3</td>\n",
              "    </tr>\n",
              "    <tr>\n",
              "      <th>4</th>\n",
              "      <td>2018-11-15</td>\n",
              "      <td>1</td>\n",
              "      <td>Iv infusion</td>\n",
              "      <td>5</td>\n",
              "    </tr>\n",
              "    <tr>\n",
              "      <th>...</th>\n",
              "      <td>...</td>\n",
              "      <td>...</td>\n",
              "      <td>...</td>\n",
              "      <td>...</td>\n",
              "    </tr>\n",
              "    <tr>\n",
              "      <th>157</th>\n",
              "      <td>2019-04-17</td>\n",
              "      <td>1</td>\n",
              "      <td>Iv infusion</td>\n",
              "      <td>6</td>\n",
              "    </tr>\n",
              "    <tr>\n",
              "      <th>158</th>\n",
              "      <td>2019-04-18</td>\n",
              "      <td>1</td>\n",
              "      <td>Iv infusion</td>\n",
              "      <td>4</td>\n",
              "    </tr>\n",
              "    <tr>\n",
              "      <th>159</th>\n",
              "      <td>2019-04-19</td>\n",
              "      <td>1</td>\n",
              "      <td>Iv infusion</td>\n",
              "      <td>2</td>\n",
              "    </tr>\n",
              "    <tr>\n",
              "      <th>160</th>\n",
              "      <td>2019-04-20</td>\n",
              "      <td>1</td>\n",
              "      <td>Iv infusion</td>\n",
              "      <td>3</td>\n",
              "    </tr>\n",
              "    <tr>\n",
              "      <th>161</th>\n",
              "      <td>2019-04-21</td>\n",
              "      <td>1</td>\n",
              "      <td>Iv infusion</td>\n",
              "      <td>6</td>\n",
              "    </tr>\n",
              "  </tbody>\n",
              "</table>\n",
              "<p>162 rows × 4 columns</p>\n",
              "</div>"
            ],
            "text/plain": [
              "         index  Pre or Post Project Product Form  Product Use\n",
              "0   2018-11-11                    1  Iv infusion            2\n",
              "1   2018-11-12                    1  Iv infusion            4\n",
              "2   2018-11-13                    1  Iv infusion            5\n",
              "3   2018-11-14                    1  Iv infusion            3\n",
              "4   2018-11-15                    1  Iv infusion            5\n",
              "..         ...                  ...          ...          ...\n",
              "157 2019-04-17                    1  Iv infusion            6\n",
              "158 2019-04-18                    1  Iv infusion            4\n",
              "159 2019-04-19                    1  Iv infusion            2\n",
              "160 2019-04-20                    1  Iv infusion            3\n",
              "161 2019-04-21                    1  Iv infusion            6\n",
              "\n",
              "[162 rows x 4 columns]"
            ]
          },
          "metadata": {
            "tags": []
          },
          "execution_count": 14
        }
      ]
    },
    {
      "cell_type": "code",
      "metadata": {
        "id": "rI04mUxTPjzc",
        "colab_type": "code",
        "colab": {
          "base_uri": "https://localhost:8080/",
          "height": 34
        },
        "outputId": "ed9957ff-9264-4cf2-f4d3-dece621aa827"
      },
      "source": [
        "#Two Sample One sided T-test on oral Metronidazole use to give test statistic, p-value and degrees of freedom\n",
        "sm.ttest_ind(oralpre['Product Use'], oralpost['Product Use'], alternative = 'smaller', usevar='unequal', value =0)"
      ],
      "execution_count": 33,
      "outputs": [
        {
          "output_type": "execute_result",
          "data": {
            "text/plain": [
              "(-1.4944601858881617, 0.06807715336504322, 286.92694104782646)"
            ]
          },
          "metadata": {
            "tags": []
          },
          "execution_count": 33
        }
      ]
    },
    {
      "cell_type": "code",
      "metadata": {
        "id": "BN2rEZB2Sxci",
        "colab_type": "code",
        "colab": {
          "base_uri": "https://localhost:8080/",
          "height": 34
        },
        "outputId": "9daa013b-f8cb-49e0-e45f-805620082578"
      },
      "source": [
        "#Two Sample One sided T-test on IV Metronidazole use to give test statistic, p-value and degrees of freedom\n",
        "sm.ttest_ind(ivpre['Product Use'], ivpost['Product Use'], alternative = 'larger', usevar='unequal', value =0)"
      ],
      "execution_count": 34,
      "outputs": [
        {
          "output_type": "execute_result",
          "data": {
            "text/plain": [
              "(1.7376022842143473, 0.0415141688213889, 411.90109761110773)"
            ]
          },
          "metadata": {
            "tags": []
          },
          "execution_count": 34
        }
      ]
    },
    {
      "cell_type": "code",
      "metadata": {
        "id": "mzdzRgfuaWZC",
        "colab_type": "code",
        "colab": {
          "base_uri": "https://localhost:8080/",
          "height": 34
        },
        "outputId": "b8b1fe58-3a52-4a3f-b3fa-b694b9b1bdb2"
      },
      "source": [
        "#Calculate oral sample summary statistics\n",
        "oralpremean = np.mean(oralpre['Product Use'])\n",
        "oralpostmean = np.mean(oralpost['Product Use'])\n",
        "\n",
        "oralmeandiff = oralpostmean - oralpremean\n",
        "\n",
        "oralprestd = np.std(oralpre['Product Use'])\n",
        "oralpoststd = np.std(oralpost['Product Use'])\n",
        "\n",
        "oralprese = oralprestd/np.sqrt(len(oralpre))\n",
        "oralprese\n",
        "\n",
        "oralpostse = oralpoststd/np.sqrt(len(oralpost))\n",
        "oralpostse"
      ],
      "execution_count": 35,
      "outputs": [
        {
          "output_type": "execute_result",
          "data": {
            "text/plain": [
              "0.08612827227856328"
            ]
          },
          "metadata": {
            "tags": []
          },
          "execution_count": 35
        }
      ]
    },
    {
      "cell_type": "code",
      "metadata": {
        "id": "7K7NzQZ8EYD9",
        "colab_type": "code",
        "colab": {
          "base_uri": "https://localhost:8080/",
          "height": 34
        },
        "outputId": "605ef3c5-e920-455d-a00d-92411445c983"
      },
      "source": [
        "#Calculate unpooled standard error for oral\n",
        "\n",
        "oraldiffse = np.sqrt(oralprestd**2/len(oralpre) + oralpoststd**2/len(oralpost))\n",
        "\n",
        "oraldiffse"
      ],
      "execution_count": 36,
      "outputs": [
        {
          "output_type": "execute_result",
          "data": {
            "text/plain": [
              "0.103568139523205"
            ]
          },
          "metadata": {
            "tags": []
          },
          "execution_count": 36
        }
      ]
    },
    {
      "cell_type": "code",
      "metadata": {
        "id": "QIB-novO1kOF",
        "colab_type": "code",
        "colab": {
          "base_uri": "https://localhost:8080/",
          "height": 34
        },
        "outputId": "26366af6-6659-419c-8fa2-afb417631e7a"
      },
      "source": [
        "#Calculate degrees of freedom and one sided ttest value for oral\n",
        "\n",
        "dof = len(oralpre)+len(oralpost)-2\n",
        "dof\n",
        "\n",
        "from scipy.stats import t\n",
        "t_val = t.ppf([0.95], dof)\n",
        "\n",
        "t_val"
      ],
      "execution_count": 37,
      "outputs": [
        {
          "output_type": "execute_result",
          "data": {
            "text/plain": [
              "array([1.64860612])"
            ]
          },
          "metadata": {
            "tags": []
          },
          "execution_count": 37
        }
      ]
    },
    {
      "cell_type": "code",
      "metadata": {
        "id": "UUNLsktR3Igt",
        "colab_type": "code",
        "colab": {
          "base_uri": "https://localhost:8080/",
          "height": 34
        },
        "outputId": "33bf4ba2-8e57-47da-c710-3b10d6011d41"
      },
      "source": [
        "#Calculate one-sided 95% CI for mean difference in oral prescribing\n",
        "\n",
        "lcio = oralmeandiff - t_val*oraldiffse\n",
        "\n",
        "ucio = oralmeandiff + t_val*oraldiffse\n",
        "\n",
        "\n",
        "print('95% CI for Change in Oral Prescribing', lcio, ucio)\n"
      ],
      "execution_count": 39,
      "outputs": [
        {
          "output_type": "stream",
          "text": [
            "95% CI for Change in Oral Prescribing [-0.01552336] [0.32596278]\n"
          ],
          "name": "stdout"
        }
      ]
    },
    {
      "cell_type": "code",
      "metadata": {
        "id": "u4-WarFIEa39",
        "colab_type": "code",
        "colab": {
          "base_uri": "https://localhost:8080/",
          "height": 34
        },
        "outputId": "45a1392f-cd28-4d61-a9d8-fa6a97fbd294"
      },
      "source": [
        "#Calculate IV sample summary statistics\n",
        "\n",
        "ivpremean = np.mean(ivpre['Product Use'])\n",
        "ivpostmean = np.mean(ivpost['Product Use'])\n",
        "\n",
        "ivmeandiff = ivpostmean - ivpremean\n",
        "\n",
        "ivmeandiff"
      ],
      "execution_count": 24,
      "outputs": [
        {
          "output_type": "execute_result",
          "data": {
            "text/plain": [
              "-0.35088734567901225"
            ]
          },
          "metadata": {
            "tags": []
          },
          "execution_count": 24
        }
      ]
    },
    {
      "cell_type": "code",
      "metadata": {
        "id": "oVEMnWHq3kq-",
        "colab_type": "code",
        "colab": {
          "base_uri": "https://localhost:8080/",
          "height": 34
        },
        "outputId": "97c83c68-a6ce-40bd-cc07-8e45b7dcc932"
      },
      "source": [
        "#Calculate IV sample summary statistics\n",
        "\n",
        "ivprestd = np.std(ivpre['Product Use'])\n",
        "ivpoststd = np.std(ivpost['Product Use'])\n",
        "\n",
        "ivprese = ivprestd/np.sqrt(len(ivpre))\n",
        "ivprese\n",
        "\n",
        "ivpostse = ivpoststd/np.sqrt(len(ivpost))\n",
        "ivpostse"
      ],
      "execution_count": 25,
      "outputs": [
        {
          "output_type": "execute_result",
          "data": {
            "text/plain": [
              "0.1328679351915918"
            ]
          },
          "metadata": {
            "tags": []
          },
          "execution_count": 25
        }
      ]
    },
    {
      "cell_type": "code",
      "metadata": {
        "id": "eMmcCkNW3zCS",
        "colab_type": "code",
        "colab": {
          "base_uri": "https://localhost:8080/",
          "height": 34
        },
        "outputId": "a085c37a-655f-4fe9-f8f2-6962a517f27b"
      },
      "source": [
        "#Calculate unpooled standard error for IV\n",
        "\n",
        "ivdiffse = np.sqrt(ivprestd**2/len(ivpre) + ivpoststd**2/len(ivpost))\n",
        "ivdiffse"
      ],
      "execution_count": 26,
      "outputs": [
        {
          "output_type": "execute_result",
          "data": {
            "text/plain": [
              "0.20144295742012644"
            ]
          },
          "metadata": {
            "tags": []
          },
          "execution_count": 26
        }
      ]
    },
    {
      "cell_type": "code",
      "metadata": {
        "id": "ZjVks79j365v",
        "colab_type": "code",
        "colab": {
          "base_uri": "https://localhost:8080/",
          "height": 34
        },
        "outputId": "05169617-f850-4f9a-9ce9-70d6edf72d13"
      },
      "source": [
        "#Calculate degrees of freedom and one sided ttest value for IV\n",
        "\n",
        "dif = len(ivpre)+len(ivpost)-2\n",
        "dif\n",
        "\n",
        "from scipy.stats import t\n",
        "t_vali = t.ppf([0.95], dif)\n",
        "\n",
        "t_vali"
      ],
      "execution_count": 27,
      "outputs": [
        {
          "output_type": "execute_result",
          "data": {
            "text/plain": [
              "array([1.64852475])"
            ]
          },
          "metadata": {
            "tags": []
          },
          "execution_count": 27
        }
      ]
    },
    {
      "cell_type": "code",
      "metadata": {
        "id": "FmVJa_vK4I--",
        "colab_type": "code",
        "colab": {
          "base_uri": "https://localhost:8080/",
          "height": 34
        },
        "outputId": "2bdf588f-622e-4a0b-e7e1-27131bfadc48"
      },
      "source": [
        "#Calculate one-sided 95% CI for mean difference in oral prescribing\n",
        "\n",
        "lcii = ivmeandiff - t_vali*ivdiffse\n",
        "\n",
        "ucii = ivmeandiff + t_vali*ivdiffse\n",
        "\n",
        "print ('95% CI for change in IV prescribing', lcii, ucii)"
      ],
      "execution_count": 40,
      "outputs": [
        {
          "output_type": "stream",
          "text": [
            "95% CI for change in IV prescribing [-0.68297105] [-0.01880364]\n"
          ],
          "name": "stdout"
        }
      ]
    },
    {
      "cell_type": "code",
      "metadata": {
        "id": "T8VsD784EtYF",
        "colab_type": "code",
        "colab": {
          "base_uri": "https://localhost:8080/",
          "height": 34
        },
        "outputId": "64d06bdd-dd70-40c3-a1ab-b264b8575de3"
      },
      "source": [
        "print('Mean Tablets prescribed pre Campaign', oralpremean)"
      ],
      "execution_count": 41,
      "outputs": [
        {
          "output_type": "stream",
          "text": [
            "Mean Tablets prescribed pre Campaign 0.515748031496063\n"
          ],
          "name": "stdout"
        }
      ]
    },
    {
      "cell_type": "code",
      "metadata": {
        "id": "I-TTOsFfJAht",
        "colab_type": "code",
        "colab": {
          "base_uri": "https://localhost:8080/",
          "height": 34
        },
        "outputId": "06f5e860-9042-46cf-b221-53573818a354"
      },
      "source": [
        "print('Mean Tablets prescribed post Campaign', oralpostmean)"
      ],
      "execution_count": 42,
      "outputs": [
        {
          "output_type": "stream",
          "text": [
            "Mean Tablets prescribed post Campaign 0.6709677419354839\n"
          ],
          "name": "stdout"
        }
      ]
    },
    {
      "cell_type": "code",
      "metadata": {
        "id": "1PFnCF70E46E",
        "colab_type": "code",
        "colab": {
          "base_uri": "https://localhost:8080/",
          "height": 34
        },
        "outputId": "3eb5bd2f-1915-4bf5-d397-d8c88ea41dfb"
      },
      "source": [
        "print('Mean Infusions prescribed pre Campaign', ivpremean)"
      ],
      "execution_count": 43,
      "outputs": [
        {
          "output_type": "stream",
          "text": [
            "Mean Infusions prescribed pre Campaign 3.671875\n"
          ],
          "name": "stdout"
        }
      ]
    },
    {
      "cell_type": "code",
      "metadata": {
        "id": "TBtIL1voFMst",
        "colab_type": "code",
        "colab": {
          "base_uri": "https://localhost:8080/",
          "height": 34
        },
        "outputId": "f6da11e1-0570-47eb-dd2d-cda33fc2dc90"
      },
      "source": [
        "print('Mean Infusions prescribed post Campaign', ivpostmean)"
      ],
      "execution_count": 44,
      "outputs": [
        {
          "output_type": "stream",
          "text": [
            "Mean Infusions prescribed post Campaign 3.3209876543209877\n"
          ],
          "name": "stdout"
        }
      ]
    },
    {
      "cell_type": "code",
      "metadata": {
        "id": "0hLmCph0FXks",
        "colab_type": "code",
        "colab": {
          "base_uri": "https://localhost:8080/",
          "height": 51
        },
        "outputId": "d2aede46-27d6-452c-e946-5ef11e813269"
      },
      "source": [
        "tabdiff = oralpostmean - oralpremean\n",
        "ivdiff = ivpostmean - ivpremean\n",
        "\n",
        "print('Tablets change', tabdiff)\n",
        "print('Infusions change', ivdiff)"
      ],
      "execution_count": 45,
      "outputs": [
        {
          "output_type": "stream",
          "text": [
            "Tablets change 0.15521971043942095\n",
            "Infusions change -0.35088734567901225\n"
          ],
          "name": "stdout"
        }
      ]
    },
    {
      "cell_type": "code",
      "metadata": {
        "id": "wMvQfy0oGAkE",
        "colab_type": "code",
        "colab": {}
      },
      "source": [
        ""
      ],
      "execution_count": 0,
      "outputs": []
    }
  ]
}